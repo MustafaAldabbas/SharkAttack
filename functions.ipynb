{
 "cells": [
  {
   "cell_type": "markdown",
   "metadata": {},
   "source": [
    "Import Libraries\n"
   ]
  },
  {
   "cell_type": "code",
   "execution_count": null,
   "metadata": {},
   "outputs": [],
   "source": [
    "mport pandas as pd\n",
    "import matplotlib.pyplot as plt\n",
    "import numpy as np\n",
    "import os\n",
    "import re\n",
    "import seaborn as sns"
   ]
  },
  {
   "cell_type": "markdown",
   "metadata": {},
   "source": [
    "Load Data"
   ]
  },
  {
   "cell_type": "code",
   "execution_count": null,
   "metadata": {},
   "outputs": [],
   "source": [
    "def load_data(url):\n",
    "    original_df = pd.read_excel(url)\n",
    "    df = original_df.copy()\n",
    "    return df\n",
    "\n",
    "url = \"https://www.sharkattackfile.net/spreadsheets/GSAF5.xls\"\n",
    "df = load_data(url)"
   ]
  },
  {
   "cell_type": "markdown",
   "metadata": {},
   "source": [
    "Get First Impression of Dataset"
   ]
  },
  {
   "cell_type": "code",
   "execution_count": null,
   "metadata": {},
   "outputs": [],
   "source": [
    "def get_first_impression(df, n=3):\n",
    "    return df.head(n)\n",
    "\n",
    "print(get_first_impression(df))"
   ]
  },
  {
   "cell_type": "markdown",
   "metadata": {},
   "source": [
    "Cell 4: Dataset Shape"
   ]
  },
  {
   "cell_type": "markdown",
   "metadata": {},
   "source": [
    "def get_shape(df):\n",
    "    return df.shape\n",
    "\n",
    "print(get_shape(df))"
   ]
  },
  {
   "cell_type": "markdown",
   "metadata": {},
   "source": [
    "Cell 5: Clean Column Names"
   ]
  },
  {
   "cell_type": "code",
   "execution_count": 1,
   "metadata": {},
   "outputs": [
    {
     "ename": "NameError",
     "evalue": "name 'df' is not defined",
     "output_type": "error",
     "traceback": [
      "\u001b[0;31m---------------------------------------------------------------------------\u001b[0m",
      "\u001b[0;31mNameError\u001b[0m                                 Traceback (most recent call last)",
      "Cell \u001b[0;32mIn[1], line 5\u001b[0m\n\u001b[1;32m      2\u001b[0m     df \u001b[38;5;241m=\u001b[39m df\u001b[38;5;241m.\u001b[39mrename(columns\u001b[38;5;241m=\u001b[39m{\u001b[38;5;124m\"\u001b[39m\u001b[38;5;124mSpecies \u001b[39m\u001b[38;5;124m\"\u001b[39m: \u001b[38;5;124m\"\u001b[39m\u001b[38;5;124mSpecies\u001b[39m\u001b[38;5;124m\"\u001b[39m})\n\u001b[1;32m      3\u001b[0m     \u001b[38;5;28;01mreturn\u001b[39;00m df\n\u001b[0;32m----> 5\u001b[0m df \u001b[38;5;241m=\u001b[39m clean_column_names(df)\n\u001b[1;32m      6\u001b[0m \u001b[38;5;28mprint\u001b[39m(df\u001b[38;5;241m.\u001b[39mcolumns)\n",
      "\u001b[0;31mNameError\u001b[0m: name 'df' is not defined"
     ]
    }
   ],
   "source": [
    "def clean_column_names(df):\n",
    "    df = df.rename(columns={\"Species \": \"Species\"})\n",
    "    return df\n",
    "\n",
    "df = clean_column_names(df)\n",
    "print(df.columns)"
   ]
  },
  {
   "cell_type": "markdown",
   "metadata": {},
   "source": [
    "6- Select Relevant Columns"
   ]
  },
  {
   "cell_type": "code",
   "execution_count": 2,
   "metadata": {},
   "outputs": [
    {
     "ename": "NameError",
     "evalue": "name 'df' is not defined",
     "output_type": "error",
     "traceback": [
      "\u001b[0;31m---------------------------------------------------------------------------\u001b[0m",
      "\u001b[0;31mNameError\u001b[0m                                 Traceback (most recent call last)",
      "Cell \u001b[0;32mIn[2], line 6\u001b[0m\n\u001b[1;32m      3\u001b[0m     \u001b[38;5;28;01mreturn\u001b[39;00m df\n\u001b[1;32m      5\u001b[0m columns \u001b[38;5;241m=\u001b[39m [\u001b[38;5;124m\"\u001b[39m\u001b[38;5;124mDate\u001b[39m\u001b[38;5;124m\"\u001b[39m, \u001b[38;5;124m\"\u001b[39m\u001b[38;5;124mYear\u001b[39m\u001b[38;5;124m\"\u001b[39m, \u001b[38;5;124m\"\u001b[39m\u001b[38;5;124mCountry\u001b[39m\u001b[38;5;124m\"\u001b[39m, \u001b[38;5;124m\"\u001b[39m\u001b[38;5;124mLocation\u001b[39m\u001b[38;5;124m\"\u001b[39m, \u001b[38;5;124m\"\u001b[39m\u001b[38;5;124mInjury\u001b[39m\u001b[38;5;124m\"\u001b[39m, \u001b[38;5;124m\"\u001b[39m\u001b[38;5;124mSpecies\u001b[39m\u001b[38;5;124m\"\u001b[39m, \u001b[38;5;124m\"\u001b[39m\u001b[38;5;124mActivity\u001b[39m\u001b[38;5;124m\"\u001b[39m]\n\u001b[0;32m----> 6\u001b[0m df \u001b[38;5;241m=\u001b[39m select_columns(df, columns)\n",
      "\u001b[0;31mNameError\u001b[0m: name 'df' is not defined"
     ]
    }
   ],
   "source": [
    "def select_columns(df, columns):\n",
    "    df = df[columns]\n",
    "    return df\n",
    "\n",
    "columns = [\"Date\", \"Year\", \"Country\", \"Location\", \"Injury\", \"Species\", \"Activity\"]\n",
    "df = select_columns(df, columns)"
   ]
  },
  {
   "cell_type": "markdown",
   "metadata": {},
   "source": [
    "Cell 7: Drop Rows with All NaN Values\n"
   ]
  },
  {
   "cell_type": "code",
   "execution_count": null,
   "metadata": {},
   "outputs": [],
   "source": [
    "def drop_all_nan_rows(df):\n",
    "    df = df.dropna(how='all')\n",
    "    return df\n",
    "\n",
    "df = drop_all_nan_rows(df)\n",
    "print(get_shape(df))"
   ]
  },
  {
   "cell_type": "markdown",
   "metadata": {},
   "source": [
    "Cell 8: Drop Rows with NaN Year\n"
   ]
  },
  {
   "cell_type": "code",
   "execution_count": null,
   "metadata": {},
   "outputs": [],
   "source": [
    "def drop_nan_year(df):\n",
    "    df = df.dropna(subset=['Year'])\n",
    "    return df\n",
    "\n",
    "df = drop_nan_year(df)\n",
    "print(get_first_impression(df))"
   ]
  },
  {
   "cell_type": "markdown",
   "metadata": {},
   "source": [
    "Cell 9: Correct Year Format\n"
   ]
  },
  {
   "cell_type": "code",
   "execution_count": null,
   "metadata": {},
   "outputs": [],
   "source": [
    "def correct_year_format(df):\n",
    "    df['Year'] = df['Year'].astype(int)\n",
    "    return df\n",
    "\n",
    "df = correct_year_format(df)\n",
    "print(get_first_impression(df))"
   ]
  },
  {
   "cell_type": "markdown",
   "metadata": {},
   "source": [
    "Cell 10: Filter Data for Last 10 Years\n"
   ]
  },
  {
   "cell_type": "code",
   "execution_count": null,
   "metadata": {},
   "outputs": [],
   "source": [
    "def filter_last_10_years(df):\n",
    "    df = df[df['Year'] >= 2015]\n",
    "    return df\n",
    "\n",
    "df = filter_last_10_years(df)"
   ]
  },
  {
   "cell_type": "markdown",
   "metadata": {},
   "source": [
    "Cell 11: Incident Counts by Year\n"
   ]
  },
  {
   "cell_type": "code",
   "execution_count": null,
   "metadata": {},
   "outputs": [],
   "source": [
    "def incident_counts_by_year(df):\n",
    "    return df['Year'].value_counts()\n",
    "\n",
    "print(incident_counts_by_year(df))"
   ]
  },
  {
   "cell_type": "markdown",
   "metadata": {},
   "source": [
    "Cell 12: Incident Counts by Country\n"
   ]
  },
  {
   "cell_type": "code",
   "execution_count": null,
   "metadata": {},
   "outputs": [],
   "source": [
    "def incident_counts_by_country(df, top_n=5):\n",
    "    return df['Country'].value_counts().head(top_n)\n",
    "\n",
    "print(incident_counts_by_country(df))"
   ]
  },
  {
   "cell_type": "markdown",
   "metadata": {},
   "source": [
    "Cell 13: Incident Counts by Location\n"
   ]
  },
  {
   "cell_type": "code",
   "execution_count": null,
   "metadata": {},
   "outputs": [],
   "source": [
    "def incident_counts_by_location(df, top_n=5):\n",
    "    return df['Location'].value_counts().head(top_n)\n",
    "\n",
    "print(incident_counts_by_location(df))"
   ]
  },
  {
   "cell_type": "markdown",
   "metadata": {},
   "source": [
    "Cell 14: Explore Injury Types\n"
   ]
  },
  {
   "cell_type": "code",
   "execution_count": null,
   "metadata": {},
   "outputs": [],
   "source": [
    "def explore_injury_types(df, top_n=10):\n",
    "    return df['Injury'].value_counts().head(top_n)\n",
    "\n",
    "print(explore_injury_types(df))"
   ]
  },
  {
   "cell_type": "markdown",
   "metadata": {},
   "source": [
    "Cell 15: Unique Injury Types\n"
   ]
  },
  {
   "cell_type": "code",
   "execution_count": null,
   "metadata": {},
   "outputs": [],
   "source": [
    "def unique_injury_types(df):\n",
    "    return df['Injury'].nunique()\n",
    "\n",
    "print(unique_injury_types(df))"
   ]
  },
  {
   "cell_type": "markdown",
   "metadata": {},
   "source": [
    "Cell 16: Dataset Information\n"
   ]
  },
  {
   "cell_type": "code",
   "execution_count": null,
   "metadata": {},
   "outputs": [],
   "source": [
    "def dataset_info(df):\n",
    "    return df.info()\n",
    "\n",
    "dataset_info(df)"
   ]
  },
  {
   "cell_type": "markdown",
   "metadata": {},
   "source": [
    "Cell 17: Missing Values\n"
   ]
  },
  {
   "cell_type": "code",
   "execution_count": null,
   "metadata": {},
   "outputs": [],
   "source": [
    "def missing_values(df):\n",
    "    return df.isnull().sum()\n",
    "\n",
    "print(missing_values(df))"
   ]
  },
  {
   "cell_type": "markdown",
   "metadata": {},
   "source": [
    "Cell 18: Group by Location and Country\n"
   ]
  },
  {
   "cell_type": "code",
   "execution_count": null,
   "metadata": {},
   "outputs": [],
   "source": [
    "def group_by_location_country(df):\n",
    "    filtered_countries = df[df['Country'].isin(['USA', 'AUSTRALIA'])]\n",
    "    grouped_location = filtered_countries.groupby(['Location', 'Country']).size().unstack(fill_value=0)\n",
    "    return grouped_location\n",
    "\n",
    "grouped_location = group_by_location_country(df)\n",
    "print(grouped_location)"
   ]
  },
  {
   "cell_type": "markdown",
   "metadata": {},
   "source": [
    "Cell 19: Pie Chart of Incidents\n"
   ]
  },
  {
   "cell_type": "code",
   "execution_count": null,
   "metadata": {},
   "outputs": [],
   "source": [
    "def plot_pie_chart(grouped_location):\n",
    "    australia_sum = grouped_location[\"AUSTRALIA\"].sum()\n",
    "    usa_sum = grouped_location[\"USA\"].sum()\n",
    "    labels = ['USA', 'AUSTRALIA']\n",
    "    sizes = [usa_sum, australia_sum]\n",
    "    plt.figure(figsize=(10, 5))\n",
    "    plt.pie(sizes, labels=labels, autopct='%1.1f%%', startangle=90)\n",
    "    plt.title('Shark Attacks in USA and Australia')\n",
    "    plt.show()\n",
    "\n",
    "plot_pie_chart(grouped_location)"
   ]
  },
  {
   "cell_type": "markdown",
   "metadata": {},
   "source": [
    "Cell 20: Filter Incidents in USA\n"
   ]
  },
  {
   "cell_type": "code",
   "execution_count": null,
   "metadata": {},
   "outputs": [],
   "source": [
    "def filter_incidents_usa(df):\n",
    "    df_usa = df[df['Country'] == 'USA'].copy()\n",
    "    return df_usa\n",
    "\n",
    "df_usa = filter_incidents_usa(df)\n",
    "print(get_first_impression(df_usa))"
   ]
  },
  {
   "cell_type": "markdown",
   "metadata": {},
   "source": [
    "Cell 21: Species Count in USA\n"
   ]
  },
  {
   "cell_type": "code",
   "execution_count": null,
   "metadata": {},
   "outputs": [],
   "source": [
    "def species_count_usa(df_usa, top_n=10):\n",
    "    return df_usa['Species'].value_counts().head(top_n)\n",
    "\n",
    "print(species_count_usa(df_usa))"
   ]
  },
  {
   "cell_type": "markdown",
   "metadata": {},
   "source": [
    "Cell 22: Format Date Column\n"
   ]
  },
  {
   "cell_type": "code",
   "execution_count": null,
   "metadata": {},
   "outputs": [],
   "source": [
    "def format_date_column(df_usa):\n",
    "    df_usa['Date'] = df_usa['Date'].apply(lambda x: re.sub(r'[-\\s,]', '', str(x)))\n",
    "    df_usa['Date'] = df_usa['Date'].apply(lambda x: re.sub(r'(\\d{4})', r'\\1-', str(x)))\n",
    "    df_usa['Date'] = pd.to_datetime(df_usa['Date'], errors='coerce')\n",
    "    df_usa['Date'] = df_usa['Date'].dt.strftime('%d-%m-%y')\n",
    "    df_usa['Date'] = pd.to_datetime(df_usa['Date'], format='%d-%m-%y', errors='coerce')\n",
    "    return df_usa\n",
    "\n",
    "df_usa = format_date_column(df_usa)\n",
    "print(get_first_impression(df_usa))"
   ]
  },
  {
   "cell_type": "markdown",
   "metadata": {},
   "source": [
    "Cell 23: Add Season Column\n"
   ]
  },
  {
   "cell_type": "code",
   "execution_count": null,
   "metadata": {},
   "outputs": [],
   "source": [
    "def add_season_column(df_usa):\n",
    "    def get_season(Date):\n",
    "        if pd.isna(Date):\n",
    "            return 'Unknown'\n",
    "        month = pd.to_datetime(Date).month\n",
    "        if month in [12, 1, 2]:\n",
    "            return 'Winter'\n",
    "        elif month in [3, 4, 5]:\n",
    "            return 'Spring'\n",
    "        elif month in [6, 7, 8]:\n",
    "            return 'Summer'\n",
    "        elif month in [9, 10, 11]:\n",
    "            return 'Fall'\n",
    "    \n",
    "    df_usa['Season'] = df_usa['Date'].apply(get_season)\n",
    "    return df_usa\n",
    "\n",
    "df_usa = add_season_column(df_usa)\n",
    "print(get_first_impression(df_usa))"
   ]
  },
  {
   "cell_type": "markdown",
   "metadata": {},
   "source": [
    "Cell 24: Group by Season and Year\n"
   ]
  },
  {
   "cell_type": "code",
   "execution_count": null,
   "metadata": {},
   "outputs": [],
   "source": [
    "def group_by_season_year(df_usa):\n",
    "    grouped_season = df_usa.groupby(['Season', 'Year']).size().unstack(fill_value=0)\n",
    "    grouped_season['Total sum'] = grouped_season.sum(axis=1)\n",
    "    grouped_season = grouped_season.drop('Unknown')\n",
    "    return grouped_season\n",
    "\n",
    "grouped_season = group_by_season_year(df_usa)\n",
    "print(grouped_season)"
   ]
  },
  {
   "cell_type": "markdown",
   "metadata": {},
   "source": [
    "Cell 25: Plot Incidents by Season\n"
   ]
  },
  {
   "cell_type": "code",
   "execution_count": null,
   "metadata": {},
   "outputs": [],
   "source": [
    "def plot_incidents_by_season(grouped_season):\n",
    "    grouped_season[['Total sum']].plot(kind='bar', stacked=True, figsize=(10, 5))\n",
    "    plt.title('Shark Attacks in the USA by Season')\n",
    "    plt.ylabel('Number of Attacks')\n",
    "    plt.xlabel('Season')\n",
    "    plt.xticks(rotation=0)\n",
    "    plt.legend(loc='upper right')\n",
    "    plt.show()\n",
    "\n",
    "plot_incidents_by_season(grouped_season)"
   ]
  },
  {
   "cell_type": "markdown",
   "metadata": {},
   "source": [
    "Cell 26: Standardize Species Names\n"
   ]
  },
  {
   "cell_type": "code",
   "execution_count": null,
   "metadata": {},
   "outputs": [],
   "source": [
    "def standardize_species_names(df_usa):\n",
    "    df_usa['Species'].fillna(\"Not Specified\", inplace=True)\n",
    "    species_replacements = {\n",
    "        \"white shark\": \"White Shark\",\n",
    "        \"tiger shark\": \"Tiger Shark\",\n",
    "        \"bull shark\": \"Bull Shark\",\n",
    "        \"nurse shark\": \"Nurse Shark\",\n",
    "        \"blacktip shark\": \"Blacktip Shark\",\n",
    "        \"hammerhead shark\": \"Hammerhead Shark\",\n",
    "        \"mako shark\": \"Mako Shark\",\n",
    "        \"lemon shark\": \"Lemon Shark\",\n",
    "        \"blue shark\": \"Blue Shark\",\n",
    "        \"spinner shark\": \"Spinner Shark\",\n",
    "        \"sand tiger shark\": \"Sand Tiger Shark\",\n",
    "        \"dusky shark\": \"Dusky Shark\",\n",
    "        \"caribbean reef shark\": \"Caribbean Reef Shark\",\n",
    "        \"galapagos shark\": \"Galapagos Shark\",\n",
    "        \"zambesi shark\": \"Zambesi Shark\"\n",
    "    }\n",
    "    \n",
    "    for key, value in species_replacements.items():\n",
    "        df_usa['Species'] = df_usa['Species'].apply(lambda x: value if key in str(x).lower() else x)\n",
    "    \n",
    "    common_species = df_usa['Species'].value_counts().head(7).index\n",
    "    df_usa['Species'] = df_usa['Species'].apply(lambda x: x if str(x) in common_species else \"Others\")\n",
    "    \n",
    "    return df_usa\n",
    "\n",
    "df_usa = standardize_species_names(df_usa)"
   ]
  },
  {
   "cell_type": "markdown",
   "metadata": {},
   "source": [
    "Cell 27: Plot Shark Attacks by Species\n"
   ]
  },
  {
   "cell_type": "code",
   "execution_count": null,
   "metadata": {},
   "outputs": [],
   "source": [
    "def plot_shark_attacks_by_species(df_usa):\n",
    "    fig = sns.countplot(y=\"Species\", data=df_usa, order=df_usa[\"Species\"].value_counts().index)\n",
    "    fig.set_title('Shark Attacks by Species')\n",
    "    plt.show()\n",
    "\n",
    "plot_shark_attacks_by_species(df_usa)"
   ]
  },
  {
   "cell_type": "markdown",
   "metadata": {},
   "source": [
    "Cell 28: Final Data Check\n"
   ]
  },
  {
   "cell_type": "code",
   "execution_count": null,
   "metadata": {},
   "outputs": [],
   "source": [
    "def final_data_check(df_usa):\n",
    "    print(df_usa.head())\n",
    "    print(df_usa['Species'].value_counts().head(10))\n",
    "    print(df_usa['Species'].isnull().sum())\n",
    "    print(df_usa['Species'].value_counts())\n",
    "\n",
    "final_data_check(df_usa)"
   ]
  },
  {
   "cell_type": "markdown",
   "metadata": {},
   "source": [
    "# Conclusion\n",
    "In this project, we performed data cleaning, exploration, and visualization to understand shark attack incidents. We identified the most common species involved, analyzed the data by year and location, and created visualizations to represent the findings."
   ]
  },
  {
   "cell_type": "code",
   "execution_count": null,
   "metadata": {},
   "outputs": [],
   "source": []
  }
 ],
 "metadata": {
  "kernelspec": {
   "display_name": "base",
   "language": "python",
   "name": "python3"
  },
  "language_info": {
   "codemirror_mode": {
    "name": "ipython",
    "version": 3
   },
   "file_extension": ".py",
   "mimetype": "text/x-python",
   "name": "python",
   "nbconvert_exporter": "python",
   "pygments_lexer": "ipython3",
   "version": "3.11.5"
  }
 },
 "nbformat": 4,
 "nbformat_minor": 2
}
