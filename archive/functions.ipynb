{
 "cells": [
  {
   "cell_type": "markdown",
   "metadata": {},
   "source": [
    "Import Libraries\n"
   ]
  },
  {
   "cell_type": "code",
   "execution_count": 46,
   "metadata": {},
   "outputs": [],
   "source": [
    "import pandas as pd\n",
    "import matplotlib.pyplot as plt\n",
    "import numpy as np\n",
    "import os\n",
    "import re\n",
    "import seaborn as sns"
   ]
  },
  {
   "cell_type": "markdown",
   "metadata": {},
   "source": [
    "Load Data"
   ]
  },
  {
   "cell_type": "code",
   "execution_count": 47,
   "metadata": {},
   "outputs": [],
   "source": [
    "def load_data(url):\n",
    "    original_df = pd.read_excel(url)\n",
    "    df = original_df.copy()\n",
    "    return df\n",
    "\n",
    "url = \"https://www.sharkattackfile.net/spreadsheets/GSAF5.xls\"\n",
    "df = load_data(url)"
   ]
  },
  {
   "cell_type": "markdown",
   "metadata": {},
   "source": [
    "Get First Impression of Dataset"
   ]
  },
  {
   "cell_type": "code",
   "execution_count": 48,
   "metadata": {},
   "outputs": [
    {
     "name": "stdout",
     "output_type": "stream",
     "text": [
      "          Date    Year        Type    Country       State            Location  \\\n",
      "0  15 Mar 2024  2024.0  Unprovoked  AUSTRALIA  Queensland       Bargara Beach   \n",
      "1  04 Mar 2024  2024.0  Unprovoked        USA      Hawaii  Old Man's, Waikiki   \n",
      "2  02 Mar-2024  2024.0  Unprovoked        USA      Hawaii      Rainbows, Oahu   \n",
      "\n",
      "   Activity            Name Sex  Age  ...        Species   \\\n",
      "0  Swimming  Brooklyn Sauer   F   13  ...     Tiger shark   \n",
      "1   Surfing   Matthew White   M  NaN  ...  Tiger shark 8'   \n",
      "2  Swimming             NaN   F   11  ...  3' to 4' shark   \n",
      "\n",
      "                      Source  pdf href formula href Case Number Case Number.1  \\\n",
      "0      Yahoo News, 3/15/2024  NaN          NaN  NaN         NaN           NaN   \n",
      "1          Surfer, 3/6/2024F  NaN          NaN  NaN         NaN           NaN   \n",
      "2  Hawaii News Now, 3/4/2024  NaN          NaN  NaN         NaN           NaN   \n",
      "\n",
      "  original order Unnamed: 21 Unnamed: 22  \n",
      "0            NaN         NaN         NaN  \n",
      "1            NaN         NaN         NaN  \n",
      "2            NaN         NaN         NaN  \n",
      "\n",
      "[3 rows x 23 columns]\n"
     ]
    }
   ],
   "source": [
    "def get_first_impression(df, n=3):\n",
    "    return df.head(n)\n",
    "\n",
    "print(get_first_impression(df))"
   ]
  },
  {
   "cell_type": "markdown",
   "metadata": {},
   "source": [
    "Cell 4: Dataset Shape"
   ]
  },
  {
   "cell_type": "code",
   "execution_count": 49,
   "metadata": {},
   "outputs": [
    {
     "name": "stdout",
     "output_type": "stream",
     "text": [
      "(6969, 23)\n"
     ]
    }
   ],
   "source": [
    "def get_shape(df):\n",
    "    return df.shape\n",
    "\n",
    "print(get_shape(df))"
   ]
  },
  {
   "cell_type": "markdown",
   "metadata": {},
   "source": [
    "Cell 5: Clean Column Names"
   ]
  },
  {
   "cell_type": "code",
   "execution_count": 50,
   "metadata": {},
   "outputs": [
    {
     "name": "stdout",
     "output_type": "stream",
     "text": [
      "Index(['Date', 'Year', 'Type', 'Country', 'State', 'Location', 'Activity',\n",
      "       'Name', 'Sex', 'Age', 'Injury', 'Unnamed: 11', 'Time', 'Species',\n",
      "       'Source', 'pdf', 'href formula', 'href', 'Case Number', 'Case Number.1',\n",
      "       'original order', 'Unnamed: 21', 'Unnamed: 22'],\n",
      "      dtype='object')\n"
     ]
    }
   ],
   "source": [
    "def clean_column_names(df):\n",
    "    df = df.rename(columns={\"Species \": \"Species\"})\n",
    "    return df\n",
    "\n",
    "df = clean_column_names(df)\n",
    "print(df.columns)"
   ]
  },
  {
   "cell_type": "markdown",
   "metadata": {},
   "source": [
    "# cealning Data\n",
    "\n",
    "####Select Relevant Columns"
   ]
  },
  {
   "cell_type": "code",
   "execution_count": 51,
   "metadata": {},
   "outputs": [],
   "source": [
    "def select_columns(df, columns):\n",
    "    df = df[columns]\n",
    "    return df\n",
    "\n",
    "columns = [\"Date\", \"Year\", \"Country\", \"Location\", \"Injury\", \"Species\", \"Activity\"]\n",
    "df = select_columns(df, columns)"
   ]
  },
  {
   "cell_type": "markdown",
   "metadata": {},
   "source": [
    "Cell 7: Drop Rows with All NaN Values\n"
   ]
  },
  {
   "cell_type": "code",
   "execution_count": 52,
   "metadata": {},
   "outputs": [
    {
     "name": "stdout",
     "output_type": "stream",
     "text": [
      "(6944, 7)\n"
     ]
    }
   ],
   "source": [
    "def drop_all_nan_rows(df):\n",
    "    df = df.dropna(how='all')\n",
    "    return df\n",
    "\n",
    "df = drop_all_nan_rows(df)\n",
    "print(get_shape(df))"
   ]
  },
  {
   "cell_type": "markdown",
   "metadata": {},
   "source": [
    "Cell 8: Drop Rows with NaN Year\n"
   ]
  },
  {
   "cell_type": "code",
   "execution_count": 53,
   "metadata": {},
   "outputs": [
    {
     "name": "stdout",
     "output_type": "stream",
     "text": [
      "          Date    Year    Country            Location  \\\n",
      "0  15 Mar 2024  2024.0  AUSTRALIA       Bargara Beach   \n",
      "1  04 Mar 2024  2024.0        USA  Old Man's, Waikiki   \n",
      "2  02 Mar-2024  2024.0        USA      Rainbows, Oahu   \n",
      "\n",
      "                                     Injury         Species  Activity  \n",
      "0  Minor injuries to back, abdomen and legs     Tiger shark  Swimming  \n",
      "1            No injury, shark bit surfboard  Tiger shark 8'   Surfing  \n",
      "2                  Lacerations to left foot  3' to 4' shark  Swimming  \n"
     ]
    }
   ],
   "source": [
    "def drop_nan_year(df):\n",
    "    df = df.dropna(subset=['Year'])\n",
    "    return df\n",
    "\n",
    "df = drop_nan_year(df)\n",
    "print(get_first_impression(df))"
   ]
  },
  {
   "cell_type": "markdown",
   "metadata": {},
   "source": [
    "Cell 9: Correct Year Format\n"
   ]
  },
  {
   "cell_type": "code",
   "execution_count": 54,
   "metadata": {},
   "outputs": [
    {
     "name": "stdout",
     "output_type": "stream",
     "text": [
      "          Date  Year    Country            Location  \\\n",
      "0  15 Mar 2024  2024  AUSTRALIA       Bargara Beach   \n",
      "1  04 Mar 2024  2024        USA  Old Man's, Waikiki   \n",
      "2  02 Mar-2024  2024        USA      Rainbows, Oahu   \n",
      "\n",
      "                                     Injury         Species  Activity  \n",
      "0  Minor injuries to back, abdomen and legs     Tiger shark  Swimming  \n",
      "1            No injury, shark bit surfboard  Tiger shark 8'   Surfing  \n",
      "2                  Lacerations to left foot  3' to 4' shark  Swimming  \n"
     ]
    }
   ],
   "source": [
    "def correct_year_format(df):\n",
    "    df['Year'] = df['Year'].astype(int)\n",
    "    return df\n",
    "\n",
    "df = correct_year_format(df)\n",
    "print(get_first_impression(df))"
   ]
  },
  {
   "cell_type": "markdown",
   "metadata": {},
   "source": [
    "Cell 10: Filter Data for Last 10 Years\n"
   ]
  },
  {
   "cell_type": "code",
   "execution_count": 55,
   "metadata": {},
   "outputs": [],
   "source": [
    "def filter_last_10_years(df):\n",
    "    df = df[df['Year'] >= 2015]\n",
    "    return df\n",
    "\n",
    "df = filter_last_10_years(df)"
   ]
  },
  {
   "cell_type": "markdown",
   "metadata": {},
   "source": [
    "Cell 12: Incident Counts by Country\n"
   ]
  },
  {
   "cell_type": "code",
   "execution_count": 56,
   "metadata": {},
   "outputs": [
    {
     "name": "stdout",
     "output_type": "stream",
     "text": [
      "Country\n",
      "USA             508\n",
      "AUSTRALIA       248\n",
      "BAHAMAS          43\n",
      "SOUTH AFRICA     43\n",
      "BRAZIL           21\n",
      "Name: count, dtype: int64\n"
     ]
    }
   ],
   "source": [
    "def incident_counts_by_country(df, top_n=5):\n",
    "    return df['Country'].value_counts().head(top_n)\n",
    "\n",
    "print(incident_counts_by_country(df))"
   ]
  },
  {
   "cell_type": "code",
   "execution_count": 57,
   "metadata": {},
   "outputs": [
    {
     "data": {
      "image/png": "[encoded data removed]",
      "text/plain": [
       "<Figure size 1000x1000 with 1 Axes>"
      ]
     },
     "metadata": {},
     "output_type": "display_data"
    }
   ],
   "source": [
    "import matplotlib.pyplot as plt\n",
    "\n",
    "def plot_top_countries_pie_chart(df):\n",
    "    \"\"\"\n",
    "    Plots a pie chart of the top 4 countries with the most incidents and a fifth slice for the rest.\n",
    "    \n",
    "    Parameters:\n",
    "        df (pd.DataFrame): The dataframe containing the data.\n",
    "    \"\"\"\n",
    "    # Get the top 4 countries\n",
    "    top_4 = df.Country.value_counts()[0:4]\n",
    "    # Sum the incidents for the remaining countries\n",
    "    others = df.Country.value_counts()[4:].sum()\n",
    "    # Add 'Others' to the top 4 countries\n",
    "    top_4['Others'] = others\n",
    "    \n",
    "    # Plot the pie chart\n",
    "    top_4.plot.pie(autopct='%1.1f%%', startangle=90, title='Incidents per country', figsize=(10, 10), fontsize=15)\n",
    "    plt.show()\n",
    "\n",
    "# Example usage:\n",
    "# Assuming `df` is already defined\n",
    "plot_top_countries_pie_chart(df)"
   ]
  },
  {
   "cell_type": "markdown",
   "metadata": {},
   "source": [
    "Cell 20: Filter Incidents in USA\n"
   ]
  },
  {
   "cell_type": "code",
   "execution_count": 58,
   "metadata": {},
   "outputs": [
    {
     "name": "stdout",
     "output_type": "stream",
     "text": [
      "           Date  Year Country            Location  \\\n",
      "1   04 Mar 2024  2024     USA  Old Man's, Waikiki   \n",
      "2   02 Mar-2024  2024     USA      Rainbows, Oahu   \n",
      "10  30 Dec-2023  2023     USA    Baby Beach, Maui   \n",
      "\n",
      "                            Injury         Species  Activity  \n",
      "1   No injury, shark bit surfboard  Tiger shark 8'   Surfing  \n",
      "2         Lacerations to left foot  3' to 4' shark  Swimming  \n",
      "10                           FATAL             NaN   Surfing  \n"
     ]
    }
   ],
   "source": [
    "def filter_incidents_usa(df):\n",
    "    df_usa = df[df['Country'] == 'USA'].copy()\n",
    "    return df_usa\n",
    "\n",
    "df_usa = filter_incidents_usa(df)\n",
    "print(get_first_impression(df_usa))"
   ]
  },
  {
   "cell_type": "markdown",
   "metadata": {},
   "source": [
    "Cell 22: Format Date Column\n"
   ]
  },
  {
   "cell_type": "code",
   "execution_count": 59,
   "metadata": {},
   "outputs": [
    {
     "name": "stdout",
     "output_type": "stream",
     "text": [
      "        Date  Year Country                                          Location  \\\n",
      "0 2024-03-04  2024     USA                                Old Man's, Waikiki   \n",
      "1 2024-03-02  2024     USA                                    Rainbows, Oahu   \n",
      "2 2023-12-30  2023     USA                                  Baby Beach, Maui   \n",
      "3 2023-11-05  2023     USA                     Juno Beach, Palm Beach County   \n",
      "4 2023-10-25  2023     USA                     Pua’ena Point,  Haleiwa, Oahu   \n",
      "5 2023-10-15  2023     USA                                Hanalei Bay, Kauai   \n",
      "6 2023-10-13  2023     USA  Linda Mar, Pacific State Beach, San Mateo County   \n",
      "7 2023-10-02  2023     USA                                        Paia, Maui   \n",
      "8 2023-10-01  2023     USA                       Wildcat Beach, Marin County   \n",
      "9 2023-09-18  2023     USA                        Myrtle Beach, Horry County   \n",
      "\n",
      "                              Injury                     Species  Activity  \n",
      "0     No injury, shark bit surfboard              Tiger shark 8'   Surfing  \n",
      "1           Lacerations to left foot              3' to 4' shark  Swimming  \n",
      "2                              FATAL                         NaN   Surfing  \n",
      "3       Lacerations to right forearm                         NaN  Swimming  \n",
      "4                Bite to right thigh              8' tiger shark   Surfing  \n",
      "5          Left leg and hand injured             10' tiger shark   Surfing  \n",
      "6   Minor linjury to left lower leg                          NaN   Surfing  \n",
      "7  Minor injury. Shark bit surfboard  10' to 12' Galapagos shark   Surfing  \n",
      "8                 Body not recovered                         NaN  Swimming  \n",
      "9       Non-lifethreatening injuries                         NaN  Swimming  \n"
     ]
    }
   ],
   "source": [
    "\n",
    "\n",
    "def format_date_column(df, date_column='Date'):\n",
    "    \"\"\"\n",
    "    Formats the date column by removing unwanted characters, adding hyphens, converting to datetime, \n",
    "    and formatting to 'dd-mm-yy'.\n",
    "    \n",
    "    Parameters:\n",
    "        df (pd.DataFrame): The dataframe containing the date column.\n",
    "        date_column (str): The name of the date column to format. Default is 'Date'.\n",
    "    \n",
    "    Returns:\n",
    "        pd.DataFrame: The dataframe with the formatted date column.\n",
    "    \"\"\"\n",
    "    # Remove all whitespaces, commas, and hyphens from the date\n",
    "    df[date_column] = df[date_column].apply(lambda x: re.sub(r'[-\\s,]', '', str(x)))\n",
    "\n",
    "    # Add a hyphen after the first four digits\n",
    "    df[date_column] = df[date_column].apply(lambda x: re.sub(r'(\\d{4})', r'\\1-', str(x)))\n",
    "\n",
    "    # Convert the month into a numerical value and format to 'dd-mm-yy'\n",
    "    df[date_column] = pd.to_datetime(df[date_column], errors='coerce').dt.strftime('%d-%m-%y')\n",
    "\n",
    "    # Convert the 'Date' column back to datetime format\n",
    "    df[date_column] = pd.to_datetime(df[date_column], format='%d-%m-%y', errors='coerce')\n",
    "    \n",
    "    # Reset the index of the dataframe\n",
    "    df = df.reset_index(drop=True)\n",
    "    \n",
    "    return df\n",
    "\n",
    "# Example usage:\n",
    "# Assuming `df_usa` is already defined\n",
    "df_usa = format_date_column(df_usa)\n",
    "print(df_usa.head(3))\n"
   ]
  },
  {
   "cell_type": "markdown",
   "metadata": {},
   "source": [
    "Cell 23: Add Season Column\n"
   ]
  },
  {
   "cell_type": "code",
   "execution_count": 35,
   "metadata": {},
   "outputs": [
    {
     "name": "stdout",
     "output_type": "stream",
     "text": [
      "         Date  Year Country            Location  \\\n",
      "1  2024-03-04  2024     USA  Old Man's, Waikiki   \n",
      "2  2024-03-02  2024     USA      Rainbows, Oahu   \n",
      "10 2023-12-30  2023     USA    Baby Beach, Maui   \n",
      "\n",
      "                            Injury         Species  Activity  Season  \n",
      "1   No injury, shark bit surfboard  Tiger shark 8'   Surfing  Spring  \n",
      "2         Lacerations to left foot  3' to 4' shark  Swimming  Spring  \n",
      "10                           FATAL             NaN   Surfing  Winter  \n"
     ]
    }
   ],
   "source": [
    "def add_season_column(df_usa):\n",
    "    def get_season(Date):\n",
    "        if pd.isna(Date):\n",
    "            return 'Unknown'\n",
    "        month = pd.to_datetime(Date).month\n",
    "        if month in [12, 1, 2]:\n",
    "            return 'Winter'\n",
    "        elif month in [3, 4, 5]:\n",
    "            return 'Spring'\n",
    "        elif month in [6, 7, 8]:\n",
    "            return 'Summer'\n",
    "        elif month in [9, 10, 11]:\n",
    "            return 'Fall'\n",
    "    \n",
    "    df_usa['Season'] = df_usa['Date'].apply(get_season)\n",
    "    return df_usa\n",
    "\n",
    "df_usa = add_season_column(df_usa)\n",
    "print(get_first_impression(df_usa))"
   ]
  },
  {
   "cell_type": "markdown",
   "metadata": {},
   "source": [
    "Cell 24: Group by Season and Year\n"
   ]
  },
  {
   "cell_type": "code",
   "execution_count": 36,
   "metadata": {},
   "outputs": [
    {
     "name": "stdout",
     "output_type": "stream",
     "text": [
      "Year    2015  2016  2017  2018  2019  2020  2021  2022  2023  2024  Total sum\n",
      "Season                                                                       \n",
      "Fall      29    17    18    13    11    14     6    12    11     0        131\n",
      "Spring    11    17    19     8    16     7    14     9    13     2        116\n",
      "Summer    28    24    22    21    25    22    25    24    16     0        207\n",
      "Winter     5     6     7     0     6     5     9     7     4     0         49\n"
     ]
    }
   ],
   "source": [
    "def group_by_season_year(df_usa):\n",
    "    grouped_season = df_usa.groupby(['Season', 'Year']).size().unstack(fill_value=0)\n",
    "    grouped_season['Total sum'] = grouped_season.sum(axis=1)\n",
    "    grouped_season = grouped_season.drop('Unknown')\n",
    "    return grouped_season\n",
    "\n",
    "grouped_season = group_by_season_year(df_usa)\n",
    "print(grouped_season)"
   ]
  },
  {
   "cell_type": "markdown",
   "metadata": {},
   "source": [
    "Cell 25: Plot Incidents by Season\n"
   ]
  },
  {
   "cell_type": "code",
   "execution_count": 37,
   "metadata": {},
   "outputs": [
    {
     "data": {
      "image/png": "[encoded data removed]",
      "text/plain": [
       "<Figure size 1000x500 with 1 Axes>"
      ]
     },
     "metadata": {},
     "output_type": "display_data"
    }
   ],
   "source": [
    "def plot_incidents_by_season(grouped_season):\n",
    "    grouped_season[['Total sum']].plot(kind='bar', stacked=True, figsize=(10, 5))\n",
    "    plt.title('Shark Attacks in the USA by Season')\n",
    "    plt.ylabel('Number of Attacks')\n",
    "    plt.xlabel('Season')\n",
    "    plt.xticks(rotation=0)\n",
    "    plt.legend(loc='upper right')\n",
    "    plt.show()\n",
    "\n",
    "plot_incidents_by_season(grouped_season)"
   ]
  },
  {
   "cell_type": "markdown",
   "metadata": {},
   "source": [
    "Cell 26: Standardize Species Names\n"
   ]
  },
  {
   "cell_type": "code",
   "execution_count": 60,
   "metadata": {},
   "outputs": [],
   "source": [
    "def standardize_species_names(df_usa):\n",
    "    df_usa['Species'].fillna(\"Not Specified\", inplace=True)\n",
    "    species_replacements = {\n",
    "        \"white shark\": \"White Shark\",\n",
    "        \"tiger shark\": \"Tiger Shark\",\n",
    "        \"bull shark\": \"Bull Shark\",\n",
    "        \"nurse shark\": \"Nurse Shark\",\n",
    "        \"blacktip shark\": \"Blacktip Shark\",\n",
    "    }\n",
    "    \n",
    "    for key, value in species_replacements.items():\n",
    "        df_usa['Species'] = df_usa['Species'].apply(lambda x: value if key in str(x).lower() else x)\n",
    "    \n",
    "    common_species = df_usa['Species'].value_counts().head(7).index\n",
    "    df_usa['Species'] = df_usa['Species'].apply(lambda x: x if str(x) in common_species else \"Others\")\n",
    "    \n",
    "    return df_usa\n",
    "\n",
    "df_usa = standardize_species_names(df_usa)"
   ]
  },
  {
   "cell_type": "markdown",
   "metadata": {},
   "source": [
    "Cell 27: Plot Shark Attacks by Species\n"
   ]
  },
  {
   "cell_type": "code",
   "execution_count": 39,
   "metadata": {},
   "outputs": [
    {
     "data": {
      "image/png": "[encoded data removed]",
      "text/plain": [
       "<Figure size 640x480 with 1 Axes>"
      ]
     },
     "metadata": {},
     "output_type": "display_data"
    }
   ],
   "source": [
    "def plot_shark_attacks_by_species(df_usa):\n",
    "    fig = sns.countplot(y=\"Species\", data=df_usa, order=df_usa[\"Species\"].value_counts().index)\n",
    "    fig.set_title('Shark Attacks by Species')\n",
    "    plt.show()\n",
    "\n",
    "plot_shark_attacks_by_species(df_usa)"
   ]
  },
  {
   "cell_type": "markdown",
   "metadata": {},
   "source": [
    "Cell 28: Final Data Check\n"
   ]
  },
  {
   "cell_type": "code",
   "execution_count": 40,
   "metadata": {},
   "outputs": [
    {
     "name": "stdout",
     "output_type": "stream",
     "text": [
      "         Date  Year Country                       Location  \\\n",
      "1  2024-03-04  2024     USA             Old Man's, Waikiki   \n",
      "2  2024-03-02  2024     USA                 Rainbows, Oahu   \n",
      "10 2023-12-30  2023     USA               Baby Beach, Maui   \n",
      "24 2023-11-05  2023     USA  Juno Beach, Palm Beach County   \n",
      "29 2023-10-25  2023     USA  Pua’ena Point,  Haleiwa, Oahu   \n",
      "\n",
      "                            Injury        Species  Activity  Season  \n",
      "1   No injury, shark bit surfboard    Tiger Shark   Surfing  Spring  \n",
      "2         Lacerations to left foot         Others  Swimming  Spring  \n",
      "10                           FATAL  Not Specified   Surfing  Winter  \n",
      "24    Lacerations to right forearm  Not Specified  Swimming    Fall  \n",
      "29             Bite to right thigh    Tiger Shark   Surfing    Fall  \n",
      "Species\n",
      "Not Specified                      231\n",
      "Others                             125\n",
      "White Shark                         42\n",
      "Tiger Shark                         40\n",
      "Bull Shark                          26\n",
      "Blacktip Shark                      21\n",
      "Shark involvement not confirmed     12\n",
      "Nurse Shark                         11\n",
      "Name: count, dtype: int64\n",
      "0\n",
      "Species\n",
      "Not Specified                      231\n",
      "Others                             125\n",
      "White Shark                         42\n",
      "Tiger Shark                         40\n",
      "Bull Shark                          26\n",
      "Blacktip Shark                      21\n",
      "Shark involvement not confirmed     12\n",
      "Nurse Shark                         11\n",
      "Name: count, dtype: int64\n"
     ]
    }
   ],
   "source": [
    "def final_data_check(df_usa):\n",
    "    print(df_usa.head())\n",
    "    print(df_usa['Species'].value_counts().head(10))\n",
    "    print(df_usa['Species'].isnull().sum())\n",
    "    print(df_usa['Species'].value_counts())\n",
    "\n",
    "final_data_check(df_usa)"
   ]
  },
  {
   "cell_type": "markdown",
   "metadata": {},
   "source": [
    "# Conclusion\n",
    "In this project, we performed data cleaning, exploration, and visualization to understand shark attack incidents. We identified the most common species involved, analyzed the data by year and location, and created visualizations to represent the findings."
   ]
  }
 ],
 "metadata": {
  "kernelspec": {
   "display_name": "base",
   "language": "python",
   "name": "python3"
  },
  "language_info": {
   "codemirror_mode": {
    "name": "ipython",
    "version": 3
   },
   "file_extension": ".py",
   "mimetype": "text/x-python",
   "name": "python",
   "nbconvert_exporter": "python",
   "pygments_lexer": "ipython3",
   "version": "3.11.5"
  }
 },
 "nbformat": 4,
 "nbformat_minor": 2
}
